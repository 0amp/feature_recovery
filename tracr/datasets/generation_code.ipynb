{
 "cells": [
  {
   "cell_type": "code",
   "execution_count": null,
   "metadata": {},
   "outputs": [],
   "source": [
    "PREAMBLE = '''\"\"\"RASP programs only using the subset of RASP supported by the compiler.\"\"\"\n",
    "\n",
    "from typing import List, Sequence\n",
    "\n",
    "from tracr.rasp import rasp\n",
    "from tracr.compiler.lib import *\n",
    "'''\n",
    "\n",
    "import tqdm\n",
    "import math\n"
   ]
  }
 ],
 "metadata": {
  "language_info": {
   "name": "python"
  }
 },
 "nbformat": 4,
 "nbformat_minor": 2
}
